{
 "cells": [
  {
   "cell_type": "markdown",
   "metadata": {},
   "source": [
    "# Predicting Air Quality Levels Based on Weather Conditions\n",
    "## Introduction\n",
    "Air pollution is a significant concern for urban areas worldwide, and Seoul is no exception. Monitoring and predicting air quality levels are crucial for public health and policy-making. This project aims to develop a predictive model for air quality levels in Seoul, using various atmospheric and pollutant data. By leveraging machine learning techniques, we strive to provide insights into the factors influencing air quality and improve the ability to forecast harmful pollution levels.\n",
    "\n",
    "## Problem Description\n",
    "**Background:**\n",
    "The primary goal of this project is to predict the concentration of PM2.5, a hazardous air pollutant, using historical data of various pollutants and atmospheric conditions. The challenge lies in handling the dataset's missing values, ensuring the features are appropriately scaled, and dealing with class imbalances in the air quality categories. Additionally, the project explores the classification of air quality levels into predefined categories to understand the severity and distribution of pollution in the region.\n",
    "\n",
    "**Motivation:**\n",
    "Accurate prediction of air quality levels can assist government agencies, environmental organizations, and the public in making informed decisions. It can help in planning activities, issuing health advisories, and implementing pollution control measures.\n",
    "\n",
    "**Goal:**\n",
    "To develop a machine learning model that can accurately predict air quality levels\n",
    "\n",
    "\n",
    "## 1. Data Understanding/Preprocessing\n",
    "**Data Collection:**\n",
    "The dataset includes daily measurements of various air pollutants (PM10, O3, NO2, SO2, CO) and PM2.5 levels from 2013 to 2024.\n",
    "\n",
    "**Data Cleaning:**\n",
    "Initially, the dataset was cleaned by replacing empty strings with NaN values and converting relevant columns to numeric types. Rows with missing values were then dropped.\n",
    "\n",
    "**Data Preprocessing:**\n",
    "The features selected for the predictive model are PM10, O3, NO2, SO2, and CO, while the target variable is PM2.5. The data was split into training and testing sets and standardized for better model performance. SMOTE was used to address class imbalance in the classification task.\n"
   ]
  },
  {
   "cell_type": "code",
   "execution_count": 41,
   "metadata": {},
   "outputs": [
    {
     "name": "stdout",
     "output_type": "stream",
     "text": [
      "            date  pm25  pm10   o3  no2  so2  co\n",
      "0       2024/6/1    47    20   44    5    3   1\n",
      "1       2024/6/2    36    18   18   11    2   2\n",
      "2       2024/6/3    44                         \n",
      "3       2024/5/1    48    34   51   15    4   4\n",
      "4       2024/5/2    61    43   75   20    4   5\n",
      "...          ...   ...   ...  ...  ...  ...  ..\n",
      "3719   2014/3/29          42   45   24    4   5\n",
      "3720   2014/3/30          29   31   54    6   7\n",
      "3721   2014/3/31          48   26   61    7   7\n",
      "3722   2019/8/24               47   17    4   7\n",
      "3723  2013/12/31               18   40   13   7\n",
      "\n",
      "[3724 rows x 7 columns]\n"
     ]
    }
   ],
   "source": [
    "# Import necessary libraries\n",
    "import pandas as pd\n",
    "import numpy as np\n",
    "from sklearn.model_selection import train_test_split, StratifiedKFold\n",
    "from sklearn.preprocessing import StandardScaler\n",
    "from sklearn.linear_model import LogisticRegression\n",
    "from sklearn.metrics import accuracy_score, classification_report, confusion_matrix\n",
    "import matplotlib.pyplot as plt\n",
    "import seaborn as sns\n",
    "\n",
    "# Load the dataset\n",
    "data_path = '/Users/derekgonzalez/Documents/COSE471/seongbuk-gu,-seoul-air-quality.csv' \n",
    "data = pd.read_csv(data_path)\n",
    "\n",
    "print(data)"
   ]
  },
  {
   "cell_type": "code",
   "execution_count": 42,
   "metadata": {},
   "outputs": [
    {
     "name": "stdout",
     "output_type": "stream",
     "text": [
      "date     object\n",
      "pm25    float64\n",
      "pm10    float64\n",
      "o3      float64\n",
      "no2     float64\n",
      "so2     float64\n",
      "co      float64\n",
      "dtype: object\n"
     ]
    }
   ],
   "source": [
    "# Normalize column names to lowercase and strip any whitespace\n",
    "data.columns = data.columns.str.strip().str.lower()\n",
    "\n",
    "# Replace empty strings with NaN and convert columns to numeric\n",
    "data.replace(\"\", float(\"NaN\"), inplace=True)\n",
    "for column in ['pm10', 'o3', 'no2', 'so2', 'co', 'pm25']:\n",
    "    data[column] = pd.to_numeric(data[column], errors='coerce')\n",
    "\n",
    "# Drop rows with NaN values\n",
    "data = data.dropna()\n",
    "\n",
    "# Ensure all columns are numeric\n",
    "print(data.dtypes)\n"
   ]
  },
  {
   "cell_type": "code",
   "execution_count": 43,
   "metadata": {},
   "outputs": [],
   "source": [
    "# Define bins for classification\n",
    "bins = [0, 50, 100, 150, 200, 300, 500]\n",
    "labels = ['Good', 'Moderate', 'Unhealthy for Sensitive Groups', 'Unhealthy', 'Very Unhealthy', 'Hazardous']\n",
    "data['air_quality_category'] = pd.cut(data['pm25'], bins=bins, labels=labels)\n",
    "\n",
    "# Convert labels to numerical values\n",
    "data['air_quality_category'] = data['air_quality_category'].cat.codes"
   ]
  },
  {
   "cell_type": "markdown",
   "metadata": {},
   "source": [
    "## 2. Feature Selection\n",
    "I have selected relevant features for the model. Here I choose various pollutants as the features and PM2.5 as the target variable."
   ]
  },
  {
   "cell_type": "code",
   "execution_count": 37,
   "metadata": {},
   "outputs": [],
   "source": [
    "# Feature selection\n",
    "features = ['pm10', 'o3', 'no2', 'so2', 'co']\n",
    "target = 'pm25'\n",
    "\n",
    "# Select only the available features and the target\n",
    "X = data[features]\n",
    "y = data['air_quality_category']"
   ]
  },
  {
   "cell_type": "markdown",
   "metadata": {},
   "source": [
    "## 3. Split Data into Training and Testing Sets"
   ]
  },
  {
   "cell_type": "code",
   "execution_count": 38,
   "metadata": {},
   "outputs": [],
   "source": [
    "# Split the data into training and testing sets\n",
    "X_train, X_test, y_train, y_test = train_test_split(X, y, test_size=0.2, random_state=42)\n",
    "\n",
    "# Standardize the features\n",
    "scaler = StandardScaler()\n",
    "X_train = scaler.fit_transform(X_train)\n",
    "X_test = scaler.transform(X_test)"
   ]
  },
  {
   "cell_type": "markdown",
   "metadata": {},
   "source": [
    "# 4. Data Science Methodology\n",
    "## Classification\n",
    "In this project, I used classification to predict air quality levels, and classified air quality into different categories such as Good, Moderate, Unhealthy, etc.\n",
    "\n",
    "## SMOTE for Handling Imbalanced Data\n",
    "SMOTE (Synthetic Minority Over-sampling Technique) is used to address the imbalance in the dataset by oversampling the minority classes.\n",
    "\n",
    "The core task of the project is to classify air quality levels into predefined categories based on pollutant data:\n",
    "- **Model Selection**: Logistic Regression was chosen as the classification algorithm due to its simplicity and effectiveness for binary and multi-class classification tasks.\n",
    "- **Model Training**: The model was trained using the resampled dataset to predict the PM2.5 levels and classify air quality into different categories.\n",
    "\n",
    "This project primarily utilizes classification techniques to predict air quality levels. Logistic regression is employed as the classifier, and SMOTE (Synthetic Minority Over-sampling Technique) is used to balance the class distribution. Stratified K-Fold Cross-Validation is implemented to ensure robust model evaluation and to handle the class imbalance more effectively.\n",
    "\n"
   ]
  },
  {
   "cell_type": "code",
   "execution_count": 39,
   "metadata": {},
   "outputs": [
    {
     "name": "stdout",
     "output_type": "stream",
     "text": [
      "Mean Accuracy: 0.5465534514709289\n",
      "Classification Report:\n",
      "              precision    recall  f1-score   support\n",
      "\n",
      "           0       0.59      0.84      0.69       359\n",
      "           1       0.49      0.29      0.36       360\n",
      "           2       0.45      0.31      0.37       360\n",
      "           3       0.60      0.77      0.67       360\n",
      "\n",
      "    accuracy                           0.55      1439\n",
      "   macro avg       0.53      0.55      0.52      1439\n",
      "weighted avg       0.53      0.55      0.52      1439\n",
      "\n"
     ]
    }
   ],
   "source": [
    "# Define bins for classification\n",
    "bins = [0, 50, 100, 150, 200, 300, 500]\n",
    "labels = ['Good', 'Moderate', 'Unhealthy for Sensitive Groups', 'Unhealthy', 'Very Unhealthy', 'Hazardous']\n",
    "data['air_quality_category'] = pd.cut(data['pm25'], bins=bins, labels=labels)\n",
    "\n",
    "# Convert labels to numerical values\n",
    "data['air_quality_category'] = data['air_quality_category'].cat.codes\n",
    "\n",
    "# Use SMOTE to oversample the minority class\n",
    "smote = SMOTE(random_state=42)\n",
    "X_resampled, y_resampled = smote.fit_resample(X, y)\n",
    "\n",
    "# Convert the resampled data to NumPy arrays\n",
    "X_resampled_np = X_resampled.to_numpy()\n",
    "y_resampled_np = y_resampled.to_numpy()\n",
    "\n",
    "# Define the classifier with increased max_iter and an alternative solver\n",
    "classifier = LogisticRegression(random_state=42, max_iter=1000, solver='liblinear')\n",
    "\n",
    "# Perform Stratified K-Fold Cross-Validation\n",
    "skf = StratifiedKFold(n_splits=5, shuffle=True, random_state=42)\n",
    "accuracies = []\n",
    "conf_matrices = []\n",
    "\n",
    "for train_index, test_index in skf.split(X_resampled_np, y_resampled_np):\n",
    "    X_train, X_test = X_resampled_np[train_index], X_resampled_np[test_index]\n",
    "    y_train, y_test = y_resampled_np[train_index], y_resampled_np[test_index]\n",
    "\n",
    "    classifier.fit(X_train, y_train)\n",
    "    y_pred = classifier.predict(X_test)\n",
    "\n",
    "    accuracies.append(accuracy_score(y_test, y_pred))\n",
    "    conf_matrices.append(confusion_matrix(y_test, y_pred))\n",
    "\n",
    "mean_accuracy = np.mean(accuracies)\n",
    "print(f'Mean Accuracy: {mean_accuracy}')\n",
    "\n",
    "# Display classification report for the last fold\n",
    "print('Classification Report:')\n",
    "print(classification_report(y_test, y_pred))\n"
   ]
  },
  {
   "cell_type": "markdown",
   "metadata": {},
   "source": [
    "## Visualization\n",
    "### Distribution of PM2.5 Levels\n",
    "Visualizing the distribution of PM2.5 levels helps us understand its spread and identify any patterns.\n"
   ]
  },
  {
   "cell_type": "code",
   "execution_count": 40,
   "metadata": {},
   "outputs": [
    {
     "data": {
      "image/png": "[encoded data removed]",
      "text/plain": [
       "<Figure size 720x432 with 1 Axes>"
      ]
     },
     "metadata": {
      "needs_background": "light"
     },
     "output_type": "display_data"
    }
   ],
   "source": [
    "# Visualize the distribution of PM2.5\n",
    "plt.figure(figsize=(10, 6))\n",
    "sns.histplot(data['pm25'], kde=True, bins=30, color='skyblue')\n",
    "plt.title('Distribution of PM2.5 Levels')\n",
    "plt.xlabel('PM2.5 Level')\n",
    "plt.ylabel('Count')\n",
    "plt.show()\n"
   ]
  },
  {
   "cell_type": "markdown",
   "metadata": {},
   "source": [
    "## Discussion\n",
    "**Findings:**\n",
    "The predictive model achieved a mean accuracy of approximately 55%, indicating moderate success in forecasting PM2.5 levels. The classification report highlights that the model performs reasonably well for more prevalent air quality categories, such as 'Good' and 'Moderate', but struggles with less common categories like 'Unhealthy'. The confusion matrix reveals that the model often misclassifies borderline cases, suggesting that certain pollutant levels have a significant impact on prediction accuracy. PM10 and NO2 were among the most influential features affecting air quality predictions, emphasizing the need to monitor these pollutants closely.\n",
    "\n",
    "**Insights:**\n",
    "The findings from this project underscore the importance of monitoring air quality to protect public health. The model's ability to predict high pollution levels can help in issuing timely health advisories and implementing control measures. The strengths of the model lie in its ability to handle large datasets and its use of SMOTE to address class imbalance. However, the weaknesses include its moderate accuracy and the need for further tuning to improve performance. The insights gained can inform environmental policy, particularly in targeting pollution control efforts towards the most significant pollutants identified by the model.\n",
    "\n",
    "**Limitations:**\n",
    "This study has several limitations, including the quality and completeness of the data. Missing values and the limited timeframe of the dataset constrain the model's predictive capabilities. Additionally, the model's performance is hindered by the imbalance in air quality categories, despite the use of SMOTE. The logistic regression model, while effective, may not capture complex non-linear relationships between features and air quality levels. Future work should focus on collecting more comprehensive data, including additional features such as meteorological conditions, traffic data, and industrial activity.\n",
    "\n",
    "**Future Work:**\n",
    "To enhance the model's accuracy and robustness, several improvements can be made. Incorporating a broader range of features, such as weather conditions, traffic patterns, and industrial emissions, could provide a more holistic view of factors affecting air quality. Experimenting with advanced machine learning algorithms, such as ensemble methods or deep learning models, might yield better performance. Additionally, extending the dataset to cover a longer timeframe and multiple regions could improve the model's generalizability. Future research could also explore real-time air quality prediction and the integration of predictive models with IoT devices for continuous monitoring."
   ]
  }
 ],
 "metadata": {
  "kernelspec": {
   "display_name": "Python 3 (ipykernel)",
   "language": "python",
   "name": "python3"
  },
  "language_info": {
   "codemirror_mode": {
    "name": "ipython",
    "version": 3
   },
   "file_extension": ".py",
   "mimetype": "text/x-python",
   "name": "python",
   "nbconvert_exporter": "python",
   "pygments_lexer": "ipython3",
   "version": "3.9.12"
  }
 },
 "nbformat": 4,
 "nbformat_minor": 2
}
